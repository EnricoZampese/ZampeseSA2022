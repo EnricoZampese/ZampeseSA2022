{
 "cells": [
  {
   "cell_type": "code",
   "execution_count": 2,
   "metadata": {},
   "outputs": [
    {
     "ename": "ModuleNotFoundError",
     "evalue": "No module named 'neurphys'",
     "output_type": "error",
     "traceback": [
      "\u001b[1;31m---------------------------------------------------------------------------\u001b[0m",
      "\u001b[1;31mModuleNotFoundError\u001b[0m                       Traceback (most recent call last)",
      "\u001b[1;32m<ipython-input-2-9605795f3f4f>\u001b[0m in \u001b[0;36m<module>\u001b[1;34m\u001b[0m\n\u001b[1;32m----> 1\u001b[1;33m \u001b[1;32mimport\u001b[0m \u001b[0mneurphys\u001b[0m\u001b[1;33m.\u001b[0m\u001b[0mread_pv\u001b[0m \u001b[1;32mas\u001b[0m \u001b[0mrpv\u001b[0m\u001b[1;33m\u001b[0m\u001b[1;33m\u001b[0m\u001b[0m\n\u001b[0m\u001b[0;32m      2\u001b[0m \u001b[1;32mimport\u001b[0m \u001b[0mneurphys\u001b[0m\u001b[1;33m.\u001b[0m\u001b[0mpacemaking\u001b[0m \u001b[1;32mas\u001b[0m \u001b[0mpace\u001b[0m\u001b[1;33m\u001b[0m\u001b[1;33m\u001b[0m\u001b[0m\n\u001b[0;32m      3\u001b[0m \u001b[1;32mimport\u001b[0m \u001b[0mnumpy\u001b[0m \u001b[1;32mas\u001b[0m \u001b[0mnp\u001b[0m\u001b[1;33m\u001b[0m\u001b[1;33m\u001b[0m\u001b[0m\n\u001b[0;32m      4\u001b[0m \u001b[1;32mimport\u001b[0m \u001b[0mpandas\u001b[0m \u001b[1;32mas\u001b[0m \u001b[0mpd\u001b[0m\u001b[1;33m\u001b[0m\u001b[1;33m\u001b[0m\u001b[0m\n\u001b[0;32m      5\u001b[0m \u001b[1;32mfrom\u001b[0m \u001b[0mglob\u001b[0m \u001b[1;32mimport\u001b[0m \u001b[0mglob\u001b[0m\u001b[1;33m\u001b[0m\u001b[1;33m\u001b[0m\u001b[0m\n",
      "\u001b[1;31mModuleNotFoundError\u001b[0m: No module named 'neurphys'"
     ]
    }
   ],
   "source": [
    "import neurphys.read_pv as rpv\n",
    "import neurphys.pacemaking as pace\n",
    "import numpy as np\n",
    "import pandas as pd\n",
    "from glob import glob\n",
    "\n",
    "import matplotlib.pyplot as plt\n",
    "%matplotlib inline"
   ]
  },
  {
   "cell_type": "code",
   "execution_count": null,
   "metadata": {},
   "outputs": [],
   "source": [
    "file= '...'\n",
    "df = rpv.import_folder(file)('voltage recording')"
   ]
  },
  {
   "cell_type": "code",
   "execution_count": null,
   "metadata": {},
   "outputs": [],
   "source": [
    "plt.plot(df.time, df.primary)"
   ]
  },
  {
   "cell_type": "code",
   "execution_count": null,
   "metadata": {},
   "outputs": [],
   "source": [
    "intervals = pace.calc_freq(df, mph=-20, mpd=100, hz=False)\n",
    "freqs= pace.calc_freq(df, mph=-20, mpd=100, hz=True)\n",
    "both= pd.DataFrame({'isi': intervals, 'freq': freqs})\n",
    "#np.savetxt('intervals.csv', intervals)\n",
    "# np.std(intervals)\n",
    "#np.savetext('both.csv', both)\n",
    "both.to_csv(file+'both.csv', index=False)"
   ]
  },
  {
   "cell_type": "code",
   "execution_count": null,
   "metadata": {},
   "outputs": [],
   "source": [
    "mask = (df.time > 16) & (df.time < 18)\n",
    "subset = df[mask]\n",
    "plt.plot(subset.time, subset.primary)\n",
    "\n",
    "#peaks = pace.detect_peaks(subset.primary, mph=-20, mpd=100)\n",
    "\n",
    "#plt.plot(subset.time.iloc[peaks], subset.primary.iloc[peaks], 'o')\n",
    "#plt.xlim(0.22, 0.25)"
   ]
  },
  {
   "cell_type": "code",
   "execution_count": null,
   "metadata": {},
   "outputs": [],
   "source": [
    "intervals = pace.calc_freq(subset, mph=-20, mpd=100, hz=False)\n",
    "freqs = pace.calc_freq(subset, mph=-20, mpd=100, hz=True)\n",
    "both = pd.DataFrame({'isi': intervals, 'freq': freqs})\n",
    "#np.savetxt('intervals.csv', intervals)\n",
    "# np.std(intervals)\n",
    "#np.savetxt('both.csv', both)\n",
    "both.to_csv(file+'...', index=False)"
   ]
  },
  {
   "cell_type": "code",
   "execution_count": null,
   "metadata": {},
   "outputs": [],
   "source": [
    "file"
   ]
  },
  {
   "cell_type": "code",
   "execution_count": null,
   "metadata": {},
   "outputs": [],
   "source": [
    "rpv.import_folder(file)"
   ]
  },
  {
   "cell_type": "code",
   "execution_count": null,
   "metadata": {},
   "outputs": [],
   "source": []
  },
  {
   "cell_type": "code",
   "execution_count": null,
   "metadata": {},
   "outputs": [],
   "source": [
    "csv= glob(file+'/*_VoltageRecording_*.csv')\n",
    "csv"
   ]
  },
  {
   "cell_type": "code",
   "execution_count": null,
   "metadata": {},
   "outputs": [],
   "source": [
    "df= pd.read_csv(csv[0])\n",
    "plt.plot((df['Time(ms)'])*1e-3, df[]' Primary'])\n",
    "plt.xlim(0.5)"
   ]
  },
  {
   "cell_type": "code",
   "execution_count": null,
   "metadata": {},
   "outputs": [],
   "source": []
  }
 ],
 "metadata": {
  "kernelspec": {
   "display_name": "Python 3",
   "language": "python",
   "name": "python3"
  },
  "language_info": {
   "codemirror_mode": {
    "name": "ipython",
    "version": 3
   },
   "file_extension": ".py",
   "mimetype": "text/x-python",
   "name": "python",
   "nbconvert_exporter": "python",
   "pygments_lexer": "ipython3",
   "version": "3.7.6"
  }
 },
 "nbformat": 4,
 "nbformat_minor": 2
}
